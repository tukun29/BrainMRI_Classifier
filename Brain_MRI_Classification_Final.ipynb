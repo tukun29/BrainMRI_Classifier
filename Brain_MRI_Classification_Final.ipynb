{
  "nbformat": 4,
  "nbformat_minor": 0,
  "metadata": {
    "colab": {
      "provenance": [],
      "authorship_tag": "ABX9TyNriEI5wfzmkbeVm/HfPk3l",
      "include_colab_link": true
    },
    "kernelspec": {
      "name": "python3",
      "display_name": "Python 3"
    },
    "language_info": {
      "name": "python"
    }
  },
  "cells": [
    {
      "cell_type": "markdown",
      "metadata": {
        "id": "view-in-github",
        "colab_type": "text"
      },
      "source": [
        "<a href=\"https://colab.research.google.com/github/tukun29/BrainMRI_Classifier/blob/main/Brain_MRI_Classification_Final.ipynb\" target=\"_parent\"><img src=\"https://colab.research.google.com/assets/colab-badge.svg\" alt=\"Open In Colab\"/></a>"
      ]
    },
    {
      "cell_type": "code",
      "execution_count": null,
      "metadata": {
        "id": "3Bc5JmjYmf3l",
        "colab": {
          "base_uri": "https://localhost:8080/"
        },
        "outputId": "ea7091cb-66f4-4837-b198-8e0d713b1f77"
      },
      "outputs": [
        {
          "output_type": "stream",
          "name": "stdout",
          "text": [
            "Drive already mounted at /content/drive; to attempt to forcibly remount, call drive.mount(\"/content/drive\", force_remount=True).\n"
          ]
        }
      ],
      "source": [
        "#IMPORTS\n",
        "'''\n",
        "  # Deep learning framework (e.g., TensorFlow/Keras or PyTorch)\n",
        "   # Image processing libraries\n",
        "   # Data handling (e.g., NumPy, pandas)\n",
        "'''\n",
        "import numpy as np # used for numeral operations on the images as arrays\n",
        "import os #allows the use of files\n",
        "import pandas as pd #matched images to their labels\n",
        "import tensorflow as tf #source of all AI/neural network methods\n",
        "\n",
        "from tensorflow.keras.preprocessing.image import ImageDataGenerator #for preprcessing\n",
        "from tensorflow.keras.models import Sequential #stacks layers of the CNN linearly\n",
        "from tensorflow.keras.layers import Conv2D, MaxPooling2D, Flatten, Dense, Dropout #used to build the model\n",
        "from google.colab import drive #allows me to bring in the images from my drive\n",
        "drive.mount('/content/drive')\n",
        "import cv2 # does image processing tasks such as resizing\n",
        "import matplotlib.pyplot as plt # plots the models accuracy and other parameters\n",
        "import random # allows us to shufffle the data so it gets randomized\n"
      ]
    },
    {
      "cell_type": "code",
      "source": [
        "#PREPROCESSING - normalizing the data as much as possible to highlight key features\n",
        " # (ex, resizing all the pics to the same dimension\n",
        " #  so the CNN does not get confused and learns wrong)\n",
        "\n",
        "\n",
        "# directories - setting up file paths as one variable so its easier\n",
        "# I won't have to keep writing the entire path\n",
        "train_dir = '/content/drive/MyDrive/Brain_CNN_Data/Training/'\n",
        "test_dir = '/content/drive/MyDrive/Brain_CNN_Data/Testing/'\n",
        "categories = ['notumor', 'glioma', 'meningioma', 'pituitary']\n",
        "\n",
        "training_data = []\n",
        "#assigns a number to each label in category\n",
        "# each image is then pulled from drive then assigned the correct number\n",
        "# (ex. all notumor images get 0)\n",
        "# they all get resized to the same dimensions\n",
        "# then added to one large dataset of images that will be used for the training of the model\n",
        "for label, category in enumerate(categories): #assigns a number to each label in categores\n",
        "    path = os.path.join(test_dir, category)\n",
        "    for img in os.listdir(path):\n",
        "        img_array = cv2.imread(os.path.join(path, img)) #pulls image from drive\n",
        "        resized_img = cv2.resize(img_array, (128, 128)) # resizes\n",
        "        training_data.append([resized_img, label]) # adds it to the list\n",
        "\n",
        "# same as training images excpet pulling from a different file with pictures\n",
        "# meant specifically for testing\n",
        "# the model won't use these pics for learning\n",
        "\n",
        "testing_data = []\n",
        "for label, category in enumerate(categories):\n",
        "    path = os.path.join(test_dir, category)\n",
        "    for img in os.listdir(path):\n",
        "        img_array = cv2.imread(os.path.join(path, img))\n",
        "        resized_img = cv2.resize(img_array, (128, 128))\n",
        "        testing_data.append([resized_img, label])\n",
        "\n",
        "#shuffling the data sets every run so the model gets new combos everytime\n",
        "random.shuffle(training_data)\n",
        "random.shuffle(testing_data)\n",
        "\n",
        "\n",
        "\n"
      ],
      "metadata": {
        "id": "V_JxKmvwXT4J"
      },
      "execution_count": null,
      "outputs": []
    },
    {
      "cell_type": "code",
      "source": [
        "#BUILD_CNN - using the imports from keras.layers to build the model\n",
        "\n",
        "# Sequential establishes the linear stacking of all the layers of the CNN\n",
        "\n",
        "model = Sequential([\n",
        "    # Conv2D (sets the number of filters for a layer, the dimesions of the filter, activiation function, size of the full image)\n",
        "      # each filter is associated with a feature/trait that the filter will look for as it moves acroos the picture\n",
        "      # activation function is the mathematic function the model uses to determine the weightage a filter gives its feature\n",
        "        # \"relu\" refers to rectified linear unit, a commonly used activation function\n",
        "    # MaxPooling2D\n",
        "        # As the filters move throguh the image, max pooling changes their size to be smaller and focus on the most important features\n",
        "    Conv2D(32, (3, 3), activation='relu', input_shape=(128, 128, 3)),\n",
        "    MaxPooling2D(2, 2),\n",
        "    Conv2D(64, (3, 3), activation='relu'),\n",
        "    MaxPooling2D(2, 2),\n",
        "    Conv2D(128, (3, 3), activation='relu'),\n",
        "    MaxPooling2D(2, 2),\n",
        "    Flatten(), # literally flattens the 2D \"feature maps\" (arrays) into a 1D connected layer\n",
        "    Dense(128, activation='relu'), #puts all the filter weightages together into one complex feature map\n",
        "    Dropout(0.5), # drops nodes from the model so it doesn't get too reliant on haveing multiple simple nodes, we want a few complex ones thanks to the Dense method\n",
        "    Dense(4, activation='softmax')\n",
        "])\n",
        "\n"
      ],
      "metadata": {
        "id": "xkMIAIbbXm6v",
        "colab": {
          "base_uri": "https://localhost:8080/"
        },
        "outputId": "c30710d5-2319-436b-bbb0-12079607a1e6"
      },
      "execution_count": null,
      "outputs": [
        {
          "output_type": "stream",
          "name": "stderr",
          "text": [
            "/usr/local/lib/python3.11/dist-packages/keras/src/layers/convolutional/base_conv.py:107: UserWarning: Do not pass an `input_shape`/`input_dim` argument to a layer. When using Sequential models, prefer using an `Input(shape)` object as the first layer in the model instead.\n",
            "  super().__init__(activity_regularizer=activity_regularizer, **kwargs)\n"
          ]
        }
      ]
    },
    {
      "cell_type": "code",
      "source": [
        "#COMPILE_CNN\n",
        "from tensorflow.keras.utils import to_categorical\n",
        "\n",
        "# Convert the images in training_data to  arraya since the model can't directly take image objects\n",
        "X_train = np.array([x[0] for x in training_data])\n",
        "y_train = np.array([x[1] for x in training_data])\n",
        "\n",
        "# Convert testing_data the same way\n",
        "X_test = np.array([x[0] for x in testing_data])\n",
        "y_test = np.array([x[1] for x in testing_data])\n",
        "\n",
        "# Normalize images but setting their values to 0 or 1 since pixels in images have\n",
        "# values from 0-255, makes it easier for the model\n",
        "X_train = X_train / 255.0\n",
        "X_test = X_test / 255.0\n",
        "\n",
        "# One-hot encode labels, which helpts the loss function (seen below) work\n",
        "# since this is a categorical CNN, each category has a label  made of 0 and 1\n",
        "# ex. 0010 or 1000\n",
        "y_train = to_categorical(y_train, num_classes=4)\n",
        "y_test = to_categorical(y_test, num_classes=4)\n",
        "\n",
        "# Now compile the model we defined earlier and train\n",
        "   # optimizer helps adjusts the weights as well\n",
        "   # loss function, another type of mathematical function (like activation), but its puprose is to address how wrong the model is overall\n",
        "   # metrics is set to accuracy so the model knows to track its value\n",
        "model.compile(optimizer='adam', loss='categorical_crossentropy', metrics=['accuracy'])\n",
        "\n",
        "# runs the model with training data and checks it with the testing data as arrays\n",
        "# epochs set to 25, meaning it will pas through the trainig data 25 times\n",
        "model.fit(X_train, y_train, epochs=25, validation_data=(X_test, y_test))"
      ],
      "metadata": {
        "id": "WyCGFTRfYswk",
        "colab": {
          "base_uri": "https://localhost:8080/"
        },
        "outputId": "cca32b9a-95cc-4fd6-fab2-cedad35301cf"
      },
      "execution_count": null,
      "outputs": [
        {
          "output_type": "stream",
          "name": "stdout",
          "text": [
            "Epoch 1/25\n",
            "\u001b[1m42/42\u001b[0m \u001b[32m━━━━━━━━━━━━━━━━━━━━\u001b[0m\u001b[37m\u001b[0m \u001b[1m64s\u001b[0m 1s/step - accuracy: 0.3974 - loss: 1.3147 - val_accuracy: 0.6631 - val_loss: 0.8213\n",
            "Epoch 2/25\n",
            "\u001b[1m42/42\u001b[0m \u001b[32m━━━━━━━━━━━━━━━━━━━━\u001b[0m\u001b[37m\u001b[0m \u001b[1m81s\u001b[0m 1s/step - accuracy: 0.6639 - loss: 0.8084 - val_accuracy: 0.7525 - val_loss: 0.5932\n",
            "Epoch 3/25\n",
            "\u001b[1m42/42\u001b[0m \u001b[32m━━━━━━━━━━━━━━━━━━━━\u001b[0m\u001b[37m\u001b[0m \u001b[1m83s\u001b[0m 1s/step - accuracy: 0.7485 - loss: 0.6407 - val_accuracy: 0.8002 - val_loss: 0.5065\n",
            "Epoch 4/25\n",
            "\u001b[1m42/42\u001b[0m \u001b[32m━━━━━━━━━━━━━━━━━━━━\u001b[0m\u001b[37m\u001b[0m \u001b[1m60s\u001b[0m 1s/step - accuracy: 0.8063 - loss: 0.4932 - val_accuracy: 0.8728 - val_loss: 0.3532\n",
            "Epoch 5/25\n",
            "\u001b[1m42/42\u001b[0m \u001b[32m━━━━━━━━━━━━━━━━━━━━\u001b[0m\u001b[37m\u001b[0m \u001b[1m85s\u001b[0m 1s/step - accuracy: 0.8287 - loss: 0.4572 - val_accuracy: 0.8834 - val_loss: 0.3311\n",
            "Epoch 6/25\n",
            "\u001b[1m42/42\u001b[0m \u001b[32m━━━━━━━━━━━━━━━━━━━━\u001b[0m\u001b[37m\u001b[0m \u001b[1m80s\u001b[0m 1s/step - accuracy: 0.8390 - loss: 0.3722 - val_accuracy: 0.9281 - val_loss: 0.2441\n",
            "Epoch 7/25\n",
            "\u001b[1m42/42\u001b[0m \u001b[32m━━━━━━━━━━━━━━━━━━━━\u001b[0m\u001b[37m\u001b[0m \u001b[1m71s\u001b[0m 1s/step - accuracy: 0.8712 - loss: 0.3338 - val_accuracy: 0.9357 - val_loss: 0.2117\n",
            "Epoch 8/25\n",
            "\u001b[1m42/42\u001b[0m \u001b[32m━━━━━━━━━━━━━━━━━━━━\u001b[0m\u001b[37m\u001b[0m \u001b[1m81s\u001b[0m 1s/step - accuracy: 0.8941 - loss: 0.2775 - val_accuracy: 0.9523 - val_loss: 0.1575\n",
            "Epoch 9/25\n",
            "\u001b[1m42/42\u001b[0m \u001b[32m━━━━━━━━━━━━━━━━━━━━\u001b[0m\u001b[37m\u001b[0m \u001b[1m92s\u001b[0m 1s/step - accuracy: 0.9106 - loss: 0.2283 - val_accuracy: 0.9621 - val_loss: 0.1097\n",
            "Epoch 10/25\n",
            "\u001b[1m42/42\u001b[0m \u001b[32m━━━━━━━━━━━━━━━━━━━━\u001b[0m\u001b[37m\u001b[0m \u001b[1m82s\u001b[0m 1s/step - accuracy: 0.9155 - loss: 0.2018 - val_accuracy: 0.9705 - val_loss: 0.0840\n",
            "Epoch 11/25\n",
            "\u001b[1m42/42\u001b[0m \u001b[32m━━━━━━━━━━━━━━━━━━━━\u001b[0m\u001b[37m\u001b[0m \u001b[1m82s\u001b[0m 1s/step - accuracy: 0.9381 - loss: 0.1551 - val_accuracy: 0.9796 - val_loss: 0.0706\n",
            "Epoch 12/25\n",
            "\u001b[1m42/42\u001b[0m \u001b[32m━━━━━━━━━━━━━━━━━━━━\u001b[0m\u001b[37m\u001b[0m \u001b[1m86s\u001b[0m 2s/step - accuracy: 0.9437 - loss: 0.1568 - val_accuracy: 0.9780 - val_loss: 0.0672\n",
            "Epoch 13/25\n",
            "\u001b[1m42/42\u001b[0m \u001b[32m━━━━━━━━━━━━━━━━━━━━\u001b[0m\u001b[37m\u001b[0m \u001b[1m68s\u001b[0m 1s/step - accuracy: 0.9318 - loss: 0.1577 - val_accuracy: 0.9932 - val_loss: 0.0401\n",
            "Epoch 14/25\n",
            "\u001b[1m42/42\u001b[0m \u001b[32m━━━━━━━━━━━━━━━━━━━━\u001b[0m\u001b[37m\u001b[0m \u001b[1m93s\u001b[0m 1s/step - accuracy: 0.9500 - loss: 0.1127 - val_accuracy: 0.9591 - val_loss: 0.0864\n",
            "Epoch 15/25\n",
            "\u001b[1m42/42\u001b[0m \u001b[32m━━━━━━━━━━━━━━━━━━━━\u001b[0m\u001b[37m\u001b[0m \u001b[1m72s\u001b[0m 1s/step - accuracy: 0.9449 - loss: 0.1256 - val_accuracy: 0.9909 - val_loss: 0.0397\n",
            "Epoch 16/25\n",
            "\u001b[1m42/42\u001b[0m \u001b[32m━━━━━━━━━━━━━━━━━━━━\u001b[0m\u001b[37m\u001b[0m \u001b[1m91s\u001b[0m 1s/step - accuracy: 0.9733 - loss: 0.0857 - val_accuracy: 0.9939 - val_loss: 0.0248\n",
            "Epoch 17/25\n",
            "\u001b[1m42/42\u001b[0m \u001b[32m━━━━━━━━━━━━━━━━━━━━\u001b[0m\u001b[37m\u001b[0m \u001b[1m82s\u001b[0m 1s/step - accuracy: 0.9697 - loss: 0.0856 - val_accuracy: 0.9992 - val_loss: 0.0105\n",
            "Epoch 18/25\n",
            "\u001b[1m42/42\u001b[0m \u001b[32m━━━━━━━━━━━━━━━━━━━━\u001b[0m\u001b[37m\u001b[0m \u001b[1m59s\u001b[0m 1s/step - accuracy: 0.9807 - loss: 0.0509 - val_accuracy: 0.9985 - val_loss: 0.0152\n",
            "Epoch 19/25\n",
            "\u001b[1m42/42\u001b[0m \u001b[32m━━━━━━━━━━━━━━━━━━━━\u001b[0m\u001b[37m\u001b[0m \u001b[1m73s\u001b[0m 1s/step - accuracy: 0.9777 - loss: 0.0612 - val_accuracy: 0.9947 - val_loss: 0.0229\n",
            "Epoch 20/25\n",
            "\u001b[1m42/42\u001b[0m \u001b[32m━━━━━━━━━━━━━━━━━━━━\u001b[0m\u001b[37m\u001b[0m \u001b[1m85s\u001b[0m 1s/step - accuracy: 0.9779 - loss: 0.0743 - val_accuracy: 0.9970 - val_loss: 0.0141\n",
            "Epoch 21/25\n",
            "\u001b[1m42/42\u001b[0m \u001b[32m━━━━━━━━━━━━━━━━━━━━\u001b[0m\u001b[37m\u001b[0m \u001b[1m49s\u001b[0m 1s/step - accuracy: 0.9802 - loss: 0.0638 - val_accuracy: 0.9992 - val_loss: 0.0071\n",
            "Epoch 22/25\n",
            "\u001b[1m42/42\u001b[0m \u001b[32m━━━━━━━━━━━━━━━━━━━━\u001b[0m\u001b[37m\u001b[0m \u001b[1m82s\u001b[0m 1s/step - accuracy: 0.9842 - loss: 0.0447 - val_accuracy: 0.9985 - val_loss: 0.0070\n",
            "Epoch 23/25\n",
            "\u001b[1m42/42\u001b[0m \u001b[32m━━━━━━━━━━━━━━━━━━━━\u001b[0m\u001b[37m\u001b[0m \u001b[1m51s\u001b[0m 1s/step - accuracy: 0.9835 - loss: 0.0599 - val_accuracy: 0.9992 - val_loss: 0.0029\n",
            "Epoch 24/25\n",
            "\u001b[1m42/42\u001b[0m \u001b[32m━━━━━━━━━━━━━━━━━━━━\u001b[0m\u001b[37m\u001b[0m \u001b[1m90s\u001b[0m 1s/step - accuracy: 0.9886 - loss: 0.0322 - val_accuracy: 1.0000 - val_loss: 0.0033\n",
            "Epoch 25/25\n",
            "\u001b[1m42/42\u001b[0m \u001b[32m━━━━━━━━━━━━━━━━━━━━\u001b[0m\u001b[37m\u001b[0m \u001b[1m72s\u001b[0m 1s/step - accuracy: 0.9819 - loss: 0.0412 - val_accuracy: 1.0000 - val_loss: 0.0050\n"
          ]
        },
        {
          "output_type": "execute_result",
          "data": {
            "text/plain": [
              "<keras.src.callbacks.history.History at 0x7e972775d990>"
            ]
          },
          "metadata": {},
          "execution_count": 30
        }
      ]
    },
    {
      "cell_type": "code",
      "source": [
        "#SAVE_CNN"
      ],
      "metadata": {
        "id": "omAWkcjkZeyd"
      },
      "execution_count": null,
      "outputs": []
    },
    {
      "cell_type": "code",
      "source": [],
      "metadata": {
        "id": "wKdjOov7YTxi"
      },
      "execution_count": null,
      "outputs": []
    }
  ]
}